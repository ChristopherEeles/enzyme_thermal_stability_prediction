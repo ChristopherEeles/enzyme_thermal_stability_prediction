{
 "cells": [
  {
   "cell_type": "markdown",
   "metadata": {},
   "source": [
    "# Novozyme Enzyme Stability Prediction\n",
    "\n",
    "This notebook contains model training and evaluation to predict the thermal stability (as measured via melting point) of enzymes based on their amino acid sequence.\n",
    "\n",
    "Competition details are available [here](https://www.kaggle.com/competitions/novozymes-enzyme-stability-prediction/overview)."
   ]
  },
  {
   "cell_type": "markdown",
   "metadata": {},
   "source": [
    "## Dataset Download\n",
    "\n",
    "Retrieve the dataset from kaggle via the kaggle API"
   ]
  },
  {
   "cell_type": "code",
   "execution_count": 5,
   "metadata": {},
   "outputs": [],
   "source": [
    "from pathlib import Path\n",
    "from shlib import Cmd\n",
    "import zipfile as "
   ]
  },
  {
   "cell_type": "code",
   "execution_count": 11,
   "metadata": {},
   "outputs": [],
   "source": [
    "# Path constants\n",
    "DATA_DIR = Path(\"rawdata\")\n",
    "METADATA_DIR = Path(\"metadata\")\n",
    "LOG_DIR = Path(\"logs\")\n",
    "RESULT_DIR = Path(\"results\")\n",
    "\n",
    "# Kaggle constants\n",
    "COMPETITION_NAME = \"novozymes-enzyme-stability-prediction\"\n"
   ]
  },
  {
   "cell_type": "code",
   "execution_count": 13,
   "metadata": {},
   "outputs": [],
   "source": [
    "# Initialize project directories\n",
    "for d in (DATA_DIR, METADATA_DIR, LOG_DIR, RESULT_DIR):\n",
    "    d.mkdir(parents=True, exist_ok=True)"
   ]
  },
  {
   "cell_type": "code",
   "execution_count": 9,
   "metadata": {},
   "outputs": [
    {
     "name": "stdout",
     "output_type": "stream",
     "text": [
      "Downloading novozymes-enzyme-stability-prediction.zip to /home/ceeles/development/enzyme_thermal_stability_prediction\n",
      "\n"
     ]
    },
    {
     "name": "stderr",
     "output_type": "stream",
     "text": [
      "100%|██████████| 7.06M/7.06M [00:00<00:00, 43.8MB/s]\n"
     ]
    },
    {
     "data": {
      "text/plain": [
       "0"
      ]
     },
     "execution_count": 9,
     "metadata": {},
     "output_type": "execute_result"
    }
   ],
   "source": [
    "# Download and decompress competition data\n",
    "download_competition_files = Cmd([\"kaggle\", \"competitions\", \"download\", \"-c\", \n",
    "    COMPETITION_NAME, \"-p\", DATA_DIR])\n",
    "download_competition_files.run()\n"
   ]
  },
  {
   "cell_type": "code",
   "execution_count": null,
   "metadata": {},
   "outputs": [],
   "source": [
    "dataset_download = Cmd([\"kaggle\", \"datasets\", \"download\", \"-d\", COMPETITION_NAME])"
   ]
  }
 ],
 "metadata": {
  "kernelspec": {
   "display_name": "Python 3.10.8 ('kaggle')",
   "language": "python",
   "name": "python3"
  },
  "language_info": {
   "codemirror_mode": {
    "name": "ipython",
    "version": 3
   },
   "file_extension": ".py",
   "mimetype": "text/x-python",
   "name": "python",
   "nbconvert_exporter": "python",
   "pygments_lexer": "ipython3",
   "version": "3.10.8"
  },
  "orig_nbformat": 4,
  "vscode": {
   "interpreter": {
    "hash": "89c6f904428369cfc6fa072b2a74a2ceecc2226ddfad1b5fe7d9e837b58fcc00"
   }
  }
 },
 "nbformat": 4,
 "nbformat_minor": 2
}
